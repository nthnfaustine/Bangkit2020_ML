{
  "nbformat": 4,
  "nbformat_minor": 0,
  "metadata": {
    "accelerator": "GPU",
    "colab": {
      "name": "NLP_Week4_Exercise_Shakespeare_Question.ipynb",
      "provenance": [],
      "toc_visible": true
    },
    "kernelspec": {
      "display_name": "Python 3",
      "name": "python3"
    }
  },
  "cells": [
    {
      "cell_type": "code",
      "metadata": {
        "id": "zX4Kg8DUTKWO"
      },
      "source": [
        "#@title Licensed under the Apache License, Version 2.0 (the \"License\");\n",
        "# you may not use this file except in compliance with the License.\n",
        "# You may obtain a copy of the License at\n",
        "#\n",
        "# https://www.apache.org/licenses/LICENSE-2.0\n",
        "#\n",
        "# Unless required by applicable law or agreed to in writing, software\n",
        "# distributed under the License is distributed on an \"AS IS\" BASIS,\n",
        "# WITHOUT WARRANTIES OR CONDITIONS OF ANY KIND, either express or implied.\n",
        "# See the License for the specific language governing permissions and\n",
        "# limitations under the License."
      ],
      "execution_count": null,
      "outputs": []
    },
    {
      "cell_type": "code",
      "metadata": {
        "id": "BOwsuGQQY9OL"
      },
      "source": [
        "from tensorflow.keras.preprocessing.sequence import pad_sequences\n",
        "from tensorflow.keras.layers import Embedding, LSTM, Dense, Dropout, Bidirectional\n",
        "from tensorflow.keras.preprocessing.text import Tokenizer\n",
        "from tensorflow.keras.models import Sequential\n",
        "from tensorflow.keras.optimizers import Adam\n",
        "from tensorflow.keras import regularizers\n",
        "import tensorflow.keras.utils as ku \n",
        "import numpy as np "
      ],
      "execution_count": 1,
      "outputs": []
    },
    {
      "cell_type": "code",
      "metadata": {
        "colab": {
          "base_uri": "https://localhost:8080/"
        },
        "id": "PRnDnCW-Z7qv",
        "outputId": "80ef6db5-89eb-431d-b3cd-d9874d0d3835"
      },
      "source": [
        "tokenizer = Tokenizer()\n",
        "!wget --no-check-certificate \\\n",
        "    https://storage.googleapis.com/laurencemoroney-blog.appspot.com/sonnets.txt \\\n",
        "    -O /tmp/sonnets.txt\n",
        "data = open('/tmp/sonnets.txt').read()\n",
        "\n",
        "corpus = data.lower().split(\"\\n\")\n",
        "\n",
        "\n",
        "tokenizer.fit_on_texts(corpus)\n",
        "total_words = len(tokenizer.word_index) + 1\n",
        "\n",
        "# create input sequences using list of tokens\n",
        "input_sequences = []\n",
        "for line in corpus:\n",
        "\ttoken_list = tokenizer.texts_to_sequences([line])[0]\n",
        "\tfor i in range(1, len(token_list)):\n",
        "\t\tn_gram_sequence = token_list[:i+1]\n",
        "\t\tinput_sequences.append(n_gram_sequence)\n",
        "\n",
        "\n",
        "# pad sequences \n",
        "max_sequence_len = max([len(x) for x in input_sequences])\n",
        "input_sequences = np.array(pad_sequences(input_sequences, maxlen=max_sequence_len, padding='pre'))\n",
        "\n",
        "# create predictors and label\n",
        "predictors, label = input_sequences[:,:-1],input_sequences[:,-1]\n",
        "\n",
        "label = ku.to_categorical(label, num_classes=total_words)"
      ],
      "execution_count": 2,
      "outputs": [
        {
          "output_type": "stream",
          "text": [
            "--2021-04-07 07:47:33--  https://storage.googleapis.com/laurencemoroney-blog.appspot.com/sonnets.txt\n",
            "Resolving storage.googleapis.com (storage.googleapis.com)... 142.251.5.128, 74.125.206.128, 64.233.167.128, ...\n",
            "Connecting to storage.googleapis.com (storage.googleapis.com)|142.251.5.128|:443... connected.\n",
            "HTTP request sent, awaiting response... 200 OK\n",
            "Length: 93578 (91K) [text/plain]\n",
            "Saving to: ‘/tmp/sonnets.txt’\n",
            "\n",
            "\r/tmp/sonnets.txt      0%[                    ]       0  --.-KB/s               \r/tmp/sonnets.txt    100%[===================>]  91.38K  --.-KB/s    in 0.002s  \n",
            "\n",
            "2021-04-07 07:47:34 (54.9 MB/s) - ‘/tmp/sonnets.txt’ saved [93578/93578]\n",
            "\n"
          ],
          "name": "stdout"
        }
      ]
    },
    {
      "cell_type": "code",
      "metadata": {
        "colab": {
          "base_uri": "https://localhost:8080/"
        },
        "id": "w9vH8Y59ajYL",
        "outputId": "1ad8d1ef-db22-4930-a928-e9e8ce681413"
      },
      "source": [
        "model = Sequential()\n",
        "model.add(Embedding(total_words, 100, input_length=max_sequence_len-1))\n",
        "model.add(Bidirectional(LSTM(150, return_sequences = True)))\n",
        "model.add(Dropout(0.2))\n",
        "model.add(LSTM(100))\n",
        "model.add(Dense(total_words/2, activation='relu', kernel_regularizer=regularizers.l2(0.01)))\n",
        "model.add(Dense(total_words, activation='softmax'))\n",
        "# Pick an optimizer\n",
        "model.compile(loss='categorical_crossentropy', optimizer='adam', metrics=['accuracy'])\n",
        "print(model.summary())\n"
      ],
      "execution_count": 3,
      "outputs": [
        {
          "output_type": "stream",
          "text": [
            "Model: \"sequential\"\n",
            "_________________________________________________________________\n",
            "Layer (type)                 Output Shape              Param #   \n",
            "=================================================================\n",
            "embedding (Embedding)        (None, 10, 100)           321100    \n",
            "_________________________________________________________________\n",
            "bidirectional (Bidirectional (None, 10, 300)           301200    \n",
            "_________________________________________________________________\n",
            "dropout (Dropout)            (None, 10, 300)           0         \n",
            "_________________________________________________________________\n",
            "lstm_1 (LSTM)                (None, 100)               160400    \n",
            "_________________________________________________________________\n",
            "dense (Dense)                (None, 1605)              162105    \n",
            "_________________________________________________________________\n",
            "dense_1 (Dense)              (None, 3211)              5156866   \n",
            "=================================================================\n",
            "Total params: 6,101,671\n",
            "Trainable params: 6,101,671\n",
            "Non-trainable params: 0\n",
            "_________________________________________________________________\n",
            "None\n"
          ],
          "name": "stdout"
        }
      ]
    },
    {
      "cell_type": "code",
      "metadata": {
        "colab": {
          "base_uri": "https://localhost:8080/"
        },
        "id": "AIg2f1HBxqof",
        "outputId": "e4915ff3-e233-4e87-a96f-662949150bf8"
      },
      "source": [
        " history = model.fit(predictors, label, epochs=100, verbose=1)"
      ],
      "execution_count": 4,
      "outputs": [
        {
          "output_type": "stream",
          "text": [
            "Epoch 1/100\n",
            "484/484 [==============================] - 47s 28ms/step - loss: 7.3377 - accuracy: 0.0208\n",
            "Epoch 2/100\n",
            "484/484 [==============================] - 13s 27ms/step - loss: 6.4832 - accuracy: 0.0247\n",
            "Epoch 3/100\n",
            "484/484 [==============================] - 13s 28ms/step - loss: 6.3875 - accuracy: 0.0237\n",
            "Epoch 4/100\n",
            "484/484 [==============================] - 13s 28ms/step - loss: 6.2507 - accuracy: 0.0307\n",
            "Epoch 5/100\n",
            "484/484 [==============================] - 13s 27ms/step - loss: 6.1579 - accuracy: 0.0328\n",
            "Epoch 6/100\n",
            "484/484 [==============================] - 13s 27ms/step - loss: 6.1025 - accuracy: 0.0359\n",
            "Epoch 7/100\n",
            "484/484 [==============================] - 13s 28ms/step - loss: 5.9850 - accuracy: 0.0409\n",
            "Epoch 8/100\n",
            "484/484 [==============================] - 13s 28ms/step - loss: 5.9092 - accuracy: 0.0442\n",
            "Epoch 9/100\n",
            "484/484 [==============================] - 13s 27ms/step - loss: 5.8255 - accuracy: 0.0507\n",
            "Epoch 10/100\n",
            "484/484 [==============================] - 13s 28ms/step - loss: 5.7215 - accuracy: 0.0529\n",
            "Epoch 11/100\n",
            "484/484 [==============================] - 13s 28ms/step - loss: 5.6296 - accuracy: 0.0575\n",
            "Epoch 12/100\n",
            "484/484 [==============================] - 13s 28ms/step - loss: 5.5059 - accuracy: 0.0699\n",
            "Epoch 13/100\n",
            "484/484 [==============================] - 13s 28ms/step - loss: 5.3985 - accuracy: 0.0778\n",
            "Epoch 14/100\n",
            "484/484 [==============================] - 13s 27ms/step - loss: 5.2603 - accuracy: 0.0881\n",
            "Epoch 15/100\n",
            "484/484 [==============================] - 13s 27ms/step - loss: 5.1935 - accuracy: 0.0911\n",
            "Epoch 16/100\n",
            "484/484 [==============================] - 13s 27ms/step - loss: 5.0997 - accuracy: 0.0943\n",
            "Epoch 17/100\n",
            "484/484 [==============================] - 13s 28ms/step - loss: 4.9795 - accuracy: 0.1054\n",
            "Epoch 18/100\n",
            "484/484 [==============================] - 13s 28ms/step - loss: 4.8745 - accuracy: 0.1201\n",
            "Epoch 19/100\n",
            "484/484 [==============================] - 13s 27ms/step - loss: 4.7744 - accuracy: 0.1271\n",
            "Epoch 20/100\n",
            "484/484 [==============================] - 13s 28ms/step - loss: 4.6870 - accuracy: 0.1375\n",
            "Epoch 21/100\n",
            "484/484 [==============================] - 13s 28ms/step - loss: 4.5764 - accuracy: 0.1499\n",
            "Epoch 22/100\n",
            "484/484 [==============================] - 13s 27ms/step - loss: 4.4814 - accuracy: 0.1533\n",
            "Epoch 23/100\n",
            "484/484 [==============================] - 13s 28ms/step - loss: 4.3851 - accuracy: 0.1689\n",
            "Epoch 24/100\n",
            "484/484 [==============================] - 13s 28ms/step - loss: 4.2742 - accuracy: 0.1848\n",
            "Epoch 25/100\n",
            "484/484 [==============================] - 13s 28ms/step - loss: 4.1999 - accuracy: 0.1975\n",
            "Epoch 26/100\n",
            "484/484 [==============================] - 13s 27ms/step - loss: 4.0955 - accuracy: 0.2081\n",
            "Epoch 27/100\n",
            "484/484 [==============================] - 13s 28ms/step - loss: 3.9757 - accuracy: 0.2206\n",
            "Epoch 28/100\n",
            "484/484 [==============================] - 13s 28ms/step - loss: 3.8674 - accuracy: 0.2362\n",
            "Epoch 29/100\n",
            "484/484 [==============================] - 13s 27ms/step - loss: 3.7700 - accuracy: 0.2610\n",
            "Epoch 30/100\n",
            "484/484 [==============================] - 13s 27ms/step - loss: 3.6768 - accuracy: 0.2698\n",
            "Epoch 31/100\n",
            "484/484 [==============================] - 13s 28ms/step - loss: 3.5843 - accuracy: 0.2970\n",
            "Epoch 32/100\n",
            "484/484 [==============================] - 13s 28ms/step - loss: 3.5066 - accuracy: 0.3101\n",
            "Epoch 33/100\n",
            "484/484 [==============================] - 13s 28ms/step - loss: 3.4243 - accuracy: 0.3292\n",
            "Epoch 34/100\n",
            "484/484 [==============================] - 13s 28ms/step - loss: 3.2920 - accuracy: 0.3525\n",
            "Epoch 35/100\n",
            "484/484 [==============================] - 13s 28ms/step - loss: 3.2741 - accuracy: 0.3669\n",
            "Epoch 36/100\n",
            "484/484 [==============================] - 14s 28ms/step - loss: 3.1849 - accuracy: 0.3745\n",
            "Epoch 37/100\n",
            "484/484 [==============================] - 13s 28ms/step - loss: 3.0928 - accuracy: 0.3952\n",
            "Epoch 38/100\n",
            "484/484 [==============================] - 13s 28ms/step - loss: 2.9757 - accuracy: 0.4192\n",
            "Epoch 39/100\n",
            "484/484 [==============================] - 13s 28ms/step - loss: 2.9435 - accuracy: 0.4376\n",
            "Epoch 40/100\n",
            "484/484 [==============================] - 13s 28ms/step - loss: 2.8770 - accuracy: 0.4417\n",
            "Epoch 41/100\n",
            "484/484 [==============================] - 13s 28ms/step - loss: 2.7685 - accuracy: 0.4713\n",
            "Epoch 42/100\n",
            "484/484 [==============================] - 13s 28ms/step - loss: 2.7189 - accuracy: 0.4817\n",
            "Epoch 43/100\n",
            "484/484 [==============================] - 13s 28ms/step - loss: 2.6883 - accuracy: 0.4933\n",
            "Epoch 44/100\n",
            "484/484 [==============================] - 14s 28ms/step - loss: 2.6146 - accuracy: 0.5086\n",
            "Epoch 45/100\n",
            "484/484 [==============================] - 14s 28ms/step - loss: 2.5506 - accuracy: 0.5250\n",
            "Epoch 46/100\n",
            "484/484 [==============================] - 13s 28ms/step - loss: 2.5007 - accuracy: 0.5307\n",
            "Epoch 47/100\n",
            "484/484 [==============================] - 14s 28ms/step - loss: 2.4443 - accuracy: 0.5446\n",
            "Epoch 48/100\n",
            "484/484 [==============================] - 13s 28ms/step - loss: 2.3696 - accuracy: 0.5676\n",
            "Epoch 49/100\n",
            "484/484 [==============================] - 13s 28ms/step - loss: 2.3150 - accuracy: 0.5755\n",
            "Epoch 50/100\n",
            "484/484 [==============================] - 13s 28ms/step - loss: 2.2716 - accuracy: 0.5878\n",
            "Epoch 51/100\n",
            "484/484 [==============================] - 13s 28ms/step - loss: 2.2383 - accuracy: 0.5924\n",
            "Epoch 52/100\n",
            "484/484 [==============================] - 13s 28ms/step - loss: 2.1883 - accuracy: 0.6035\n",
            "Epoch 53/100\n",
            "484/484 [==============================] - 13s 27ms/step - loss: 2.1621 - accuracy: 0.6128\n",
            "Epoch 54/100\n",
            "484/484 [==============================] - 13s 28ms/step - loss: 2.1058 - accuracy: 0.6206\n",
            "Epoch 55/100\n",
            "484/484 [==============================] - 13s 28ms/step - loss: 2.0559 - accuracy: 0.6325\n",
            "Epoch 56/100\n",
            "484/484 [==============================] - 13s 27ms/step - loss: 2.0153 - accuracy: 0.6411\n",
            "Epoch 57/100\n",
            "484/484 [==============================] - 13s 28ms/step - loss: 1.9922 - accuracy: 0.6431\n",
            "Epoch 58/100\n",
            "484/484 [==============================] - 13s 28ms/step - loss: 1.9441 - accuracy: 0.6534\n",
            "Epoch 59/100\n",
            "484/484 [==============================] - 13s 27ms/step - loss: 1.9248 - accuracy: 0.6602\n",
            "Epoch 60/100\n",
            "484/484 [==============================] - 13s 28ms/step - loss: 1.8956 - accuracy: 0.6651\n",
            "Epoch 61/100\n",
            "484/484 [==============================] - 13s 27ms/step - loss: 1.8299 - accuracy: 0.6792\n",
            "Epoch 62/100\n",
            "484/484 [==============================] - 13s 27ms/step - loss: 1.7836 - accuracy: 0.6920\n",
            "Epoch 63/100\n",
            "484/484 [==============================] - 13s 28ms/step - loss: 1.8052 - accuracy: 0.6865\n",
            "Epoch 64/100\n",
            "484/484 [==============================] - 13s 28ms/step - loss: 1.7638 - accuracy: 0.6927\n",
            "Epoch 65/100\n",
            "484/484 [==============================] - 13s 27ms/step - loss: 1.7239 - accuracy: 0.6980\n",
            "Epoch 66/100\n",
            "484/484 [==============================] - 13s 28ms/step - loss: 1.6902 - accuracy: 0.7067\n",
            "Epoch 67/100\n",
            "484/484 [==============================] - 13s 28ms/step - loss: 1.6678 - accuracy: 0.7131\n",
            "Epoch 68/100\n",
            "484/484 [==============================] - 13s 28ms/step - loss: 1.6132 - accuracy: 0.7225\n",
            "Epoch 69/100\n",
            "484/484 [==============================] - 13s 27ms/step - loss: 1.6491 - accuracy: 0.7188\n",
            "Epoch 70/100\n",
            "484/484 [==============================] - 13s 28ms/step - loss: 1.5713 - accuracy: 0.7333\n",
            "Epoch 71/100\n",
            "484/484 [==============================] - 13s 28ms/step - loss: 1.5522 - accuracy: 0.7323\n",
            "Epoch 72/100\n",
            "484/484 [==============================] - 13s 27ms/step - loss: 1.5539 - accuracy: 0.7328\n",
            "Epoch 73/100\n",
            "484/484 [==============================] - 13s 28ms/step - loss: 1.5059 - accuracy: 0.7442\n",
            "Epoch 74/100\n",
            "484/484 [==============================] - 13s 28ms/step - loss: 1.4903 - accuracy: 0.7472\n",
            "Epoch 75/100\n",
            "484/484 [==============================] - 13s 27ms/step - loss: 1.4792 - accuracy: 0.7477\n",
            "Epoch 76/100\n",
            "484/484 [==============================] - 13s 28ms/step - loss: 1.4551 - accuracy: 0.7543\n",
            "Epoch 77/100\n",
            "484/484 [==============================] - 13s 28ms/step - loss: 1.4443 - accuracy: 0.7554\n",
            "Epoch 78/100\n",
            "484/484 [==============================] - 13s 27ms/step - loss: 1.4111 - accuracy: 0.7602\n",
            "Epoch 79/100\n",
            "484/484 [==============================] - 13s 28ms/step - loss: 1.3831 - accuracy: 0.7664\n",
            "Epoch 80/100\n",
            "484/484 [==============================] - 13s 28ms/step - loss: 1.3817 - accuracy: 0.7651\n",
            "Epoch 81/100\n",
            "484/484 [==============================] - 13s 28ms/step - loss: 1.3797 - accuracy: 0.7631\n",
            "Epoch 82/100\n",
            "484/484 [==============================] - 13s 28ms/step - loss: 1.3666 - accuracy: 0.7696\n",
            "Epoch 83/100\n",
            "484/484 [==============================] - 13s 28ms/step - loss: 1.3402 - accuracy: 0.7762\n",
            "Epoch 84/100\n",
            "484/484 [==============================] - 13s 28ms/step - loss: 1.3201 - accuracy: 0.7767\n",
            "Epoch 85/100\n",
            "484/484 [==============================] - 13s 28ms/step - loss: 1.3074 - accuracy: 0.7760\n",
            "Epoch 86/100\n",
            "484/484 [==============================] - 13s 28ms/step - loss: 1.2950 - accuracy: 0.7800\n",
            "Epoch 87/100\n",
            "484/484 [==============================] - 13s 28ms/step - loss: 1.2727 - accuracy: 0.7826\n",
            "Epoch 88/100\n",
            "484/484 [==============================] - 13s 28ms/step - loss: 1.2428 - accuracy: 0.7899\n",
            "Epoch 89/100\n",
            "484/484 [==============================] - 13s 28ms/step - loss: 1.2291 - accuracy: 0.7946\n",
            "Epoch 90/100\n",
            "484/484 [==============================] - 13s 28ms/step - loss: 1.2262 - accuracy: 0.7905\n",
            "Epoch 91/100\n",
            "484/484 [==============================] - 13s 28ms/step - loss: 1.2167 - accuracy: 0.7953\n",
            "Epoch 92/100\n",
            "484/484 [==============================] - 13s 28ms/step - loss: 1.2234 - accuracy: 0.7923\n",
            "Epoch 93/100\n",
            "484/484 [==============================] - 13s 28ms/step - loss: 1.2093 - accuracy: 0.7924\n",
            "Epoch 94/100\n",
            "484/484 [==============================] - 13s 28ms/step - loss: 1.1991 - accuracy: 0.7947\n",
            "Epoch 95/100\n",
            "484/484 [==============================] - 13s 28ms/step - loss: 1.1629 - accuracy: 0.8029\n",
            "Epoch 96/100\n",
            "484/484 [==============================] - 13s 28ms/step - loss: 1.1737 - accuracy: 0.8013\n",
            "Epoch 97/100\n",
            "484/484 [==============================] - 13s 28ms/step - loss: 1.1446 - accuracy: 0.8070\n",
            "Epoch 98/100\n",
            "484/484 [==============================] - 13s 28ms/step - loss: 1.1516 - accuracy: 0.8014\n",
            "Epoch 99/100\n",
            "484/484 [==============================] - 13s 28ms/step - loss: 1.1178 - accuracy: 0.8122\n",
            "Epoch 100/100\n",
            "484/484 [==============================] - 13s 28ms/step - loss: 1.1228 - accuracy: 0.8070\n"
          ],
          "name": "stdout"
        }
      ]
    },
    {
      "cell_type": "code",
      "metadata": {
        "colab": {
          "base_uri": "https://localhost:8080/",
          "height": 545
        },
        "id": "1fXTEO3GJ282",
        "outputId": "cdce7992-1b48-433b-faf8-1b55425bba23"
      },
      "source": [
        "import matplotlib.pyplot as plt\n",
        "acc = history.history['accuracy']\n",
        "loss = history.history['loss']\n",
        "\n",
        "epochs = range(len(acc))\n",
        "\n",
        "plt.plot(epochs, acc, 'b', label='Training accuracy')\n",
        "plt.title('Training accuracy')\n",
        "\n",
        "plt.figure()\n",
        "\n",
        "plt.plot(epochs, loss, 'b', label='Training Loss')\n",
        "plt.title('Training loss')\n",
        "plt.legend()\n",
        "\n",
        "plt.show()"
      ],
      "execution_count": 5,
      "outputs": [
        {
          "output_type": "display_data",
          "data": {
            "image/png": "[encoded data removed]",
            "text/plain": [
              "<Figure size 432x288 with 1 Axes>"
            ]
          },
          "metadata": {
            "tags": [],
            "needs_background": "light"
          }
        },
        {
          "output_type": "display_data",
          "data": {
            "image/png": "[encoded data removed]",
            "text/plain": [
              "<Figure size 432x288 with 1 Axes>"
            ]
          },
          "metadata": {
            "tags": [],
            "needs_background": "light"
          }
        }
      ]
    },
    {
      "cell_type": "code",
      "metadata": {
        "colab": {
          "base_uri": "https://localhost:8080/"
        },
        "id": "6Vc6PHgxa6Hm",
        "outputId": "c183f726-4cd4-4148-847a-676640ab47bc"
      },
      "source": [
        "seed_text = \"I can do this all day\"\n",
        "next_words = 100\n",
        "  \n",
        "for _ in range(next_words):\n",
        "\ttoken_list = tokenizer.texts_to_sequences([seed_text])[0]\n",
        "\ttoken_list = pad_sequences([token_list], maxlen=max_sequence_len-1, padding='pre')\n",
        "\tpredicted = model.predict_classes(token_list, verbose=0)\n",
        "\toutput_word = \"\"\n",
        "\tfor word, index in tokenizer.word_index.items():\n",
        "\t\tif index == predicted:\n",
        "\t\t\toutput_word = word\n",
        "\t\t\tbreak\n",
        "\tseed_text += \" \" + output_word\n",
        "print(seed_text)"
      ],
      "execution_count": 7,
      "outputs": [
        {
          "output_type": "stream",
          "text": [
            "/usr/local/lib/python3.7/dist-packages/tensorflow/python/keras/engine/sequential.py:450: UserWarning: `model.predict_classes()` is deprecated and will be removed after 2021-01-01. Please use instead:* `np.argmax(model.predict(x), axis=-1)`,   if your model does multi-class classification   (e.g. if it uses a `softmax` last-layer activation).* `(model.predict(x) > 0.5).astype(\"int32\")`,   if your model does binary classification   (e.g. if it uses a `sigmoid` last-layer activation).\n",
            "  warnings.warn('`model.predict_classes()` is deprecated and '\n"
          ],
          "name": "stderr"
        },
        {
          "output_type": "stream",
          "text": [
            "I can do this all day not doth more ' doth live dead night doth loss by shown woe cold quite minds new quite can tell doth every doom of wrongs pleasure things end shines by shown respect respect hour out time away lives bail of ill commits doth give strange year be behind deep days out truth lies new past ill forsworn die men ' did give worth one shall lie in you doth thee did tell you live so date doth make him they both chide thee kind days torn still care doth date old cold shows me be by things wind date can\n"
          ],
          "name": "stdout"
        }
      ]
    },
    {
      "cell_type": "code",
      "metadata": {
        "id": "XqbrOullZN0D"
      },
      "source": [
        ""
      ],
      "execution_count": null,
      "outputs": []
    }
  ]
}